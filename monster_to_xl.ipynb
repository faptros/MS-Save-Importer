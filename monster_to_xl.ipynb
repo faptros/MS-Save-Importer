{
 "cells": [
  {
   "cell_type": "code",
   "execution_count": 7,
   "metadata": {},
   "outputs": [
    {
     "name": "stdout",
     "output_type": "stream",
     "text": [
      "Done!\n"
     ]
    }
   ],
   "source": [
    "import pandas as pd\n",
    "import re\n",
    "\n",
    "txtraw = open('monstertxt.txt', 'r')\n",
    "raw = txtraw.read().replace(\"\\n\", \" \")\n",
    "mon_df = pd.read_excel(r'monsterbase.xlsx')\n",
    "\n",
    "#ID i shift per ActiveMonsters\n",
    "for i in range(6):\n",
    "    #Trobar index per la ID i shift (de 0 a 5, nomes active)\n",
    "    id_loc = raw.find('ActiveMonster > {} > ID'.format(i))\n",
    "    shift_loc = raw.find('ActiveMonster > {} > Shift'.format(i))\n",
    "   \n",
    "    if id_loc > 0:\n",
    "        #ID en brut, amb parentesis\n",
    "        id_raw = raw[id_loc+24+len(str(i)):id_loc+28+len(str(i))]\n",
    "        #ID neta, només numeritos (list)\n",
    "        id_list = re.findall('\\d+', id_raw)\n",
    "        #int64 amb el número (ID)\n",
    "        id_util = int(id_list[0])\n",
    "        \n",
    "        #int64 amb el shift\n",
    "        shift = int(raw[shift_loc + 27 + len(str(i)) : shift_loc + 28 + len(str(i))])\n",
    "        \n",
    "        #Posar yes a la columna que toqui de la fila del ID del monstre\n",
    "        if shift == 0:\n",
    "            mon_df.loc[mon_df['ID'] == id_util, 'Neutral'] = 'Yes'\n",
    "        elif shift == 1:\n",
    "            mon_df.loc[mon_df['ID'] == id_util, 'Light'] = 'Yes'\n",
    "        elif shift == 2:\n",
    "            mon_df.loc[mon_df['ID'] == id_util, 'Dark'] = 'Yes'\n",
    "\n",
    "#Lo mismo pero Inactive i range 1k (porsia)\n",
    "for n in range(2000):\n",
    "    id_loc_2 = raw.find('InactiveMonster > {} > ID'.format(n))\n",
    "    shift_loc_2 = raw.find('InactiveMonster > {} > Shift'.format(n))\n",
    "    if id_loc_2 > 0:\n",
    "        id_raw_2 = raw[id_loc_2+25+len(str(n)):id_loc_2+30+len(str(n))]\n",
    "        id_list_2 = re.findall('\\d+', id_raw_2)\n",
    "        id_util_2 = int(id_list_2[0])\n",
    "        shift_2 = int(raw[shift_loc_2 + 29 + len(str(n)) : shift_loc_2 + 30 + len(str(n))])\n",
    "        if shift_2 == 0:\n",
    "            mon_df.loc[mon_df['ID'] == id_util_2, 'Neutral'] = 'Yes'\n",
    "        elif shift_2 == 1:\n",
    "            mon_df.loc[mon_df['ID'] == id_util_2, 'Light'] = 'Yes'\n",
    "        elif shift_2 == 2:\n",
    "            mon_df.loc[mon_df['ID'] == id_util_2, 'Dark'] = 'Yes'\n",
    "\n",
    "#Output a excel\n",
    "mon_df.to_excel('output.xlsx')\n"
   ]
  },
  {
   "cell_type": "code",
   "execution_count": 6,
   "metadata": {},
   "outputs": [
    {
     "name": "stdout",
     "output_type": "stream",
     "text": [
      "27306\n"
     ]
    },
    {
     "data": {
      "text/plain": [
       "str"
      ]
     },
     "execution_count": 6,
     "metadata": {},
     "output_type": "execute_result"
    }
   ],
   "source": []
  },
  {
   "cell_type": "code",
   "execution_count": null,
   "metadata": {},
   "outputs": [],
   "source": []
  }
 ],
 "metadata": {
  "kernelspec": {
   "display_name": "Python 3",
   "language": "python",
   "name": "python3"
  },
  "language_info": {
   "codemirror_mode": {
    "name": "ipython",
    "version": 3
   },
   "file_extension": ".py",
   "mimetype": "text/x-python",
   "name": "python",
   "nbconvert_exporter": "python",
   "pygments_lexer": "ipython3",
   "version": "3.7.4"
  }
 },
 "nbformat": 4,
 "nbformat_minor": 2
}
